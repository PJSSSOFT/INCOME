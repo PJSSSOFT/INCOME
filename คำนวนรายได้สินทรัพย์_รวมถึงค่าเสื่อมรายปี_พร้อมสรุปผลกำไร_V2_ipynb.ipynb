{
  "nbformat": 4,
  "nbformat_minor": 0,
  "metadata": {
    "colab": {
      "provenance": [],
      "authorship_tag": "ABX9TyM8ZysVJAt8Pi/KbE8Rgrct",
      "include_colab_link": true
    },
    "kernelspec": {
      "name": "python3",
      "display_name": "Python 3"
    },
    "language_info": {
      "name": "python"
    }
  },
  "cells": [
    {
      "cell_type": "markdown",
      "metadata": {
        "id": "view-in-github",
        "colab_type": "text"
      },
      "source": [
        "<a href=\"https://colab.research.google.com/github/PJSSSOFT/INCOME/blob/main/%E0%B8%84%E0%B8%B3%E0%B8%99%E0%B8%A7%E0%B8%99%E0%B8%A3%E0%B8%B2%E0%B8%A2%E0%B9%84%E0%B8%94%E0%B9%89%E0%B8%AA%E0%B8%B4%E0%B8%99%E0%B8%97%E0%B8%A3%E0%B8%B1%E0%B8%9E%E0%B8%A2%E0%B9%8C_%E0%B8%A3%E0%B8%A7%E0%B8%A1%E0%B8%96%E0%B8%B6%E0%B8%87%E0%B8%84%E0%B9%88%E0%B8%B2%E0%B9%80%E0%B8%AA%E0%B8%B7%E0%B9%88%E0%B8%AD%E0%B8%A1%E0%B8%A3%E0%B8%B2%E0%B8%A2%E0%B8%9B%E0%B8%B5_%E0%B8%9E%E0%B8%A3%E0%B9%89%E0%B8%AD%E0%B8%A1%E0%B8%AA%E0%B8%A3%E0%B8%B8%E0%B8%9B%E0%B8%9C%E0%B8%A5%E0%B8%81%E0%B8%B3%E0%B9%84%E0%B8%A3_V2_ipynb.ipynb\" target=\"_parent\"><img src=\"https://colab.research.google.com/assets/colab-badge.svg\" alt=\"Open In Colab\"/></a>"
      ]
    },
    {
      "cell_type": "code",
      "execution_count": 7,
      "metadata": {
        "colab": {
          "base_uri": "https://localhost:8080/"
        },
        "id": "sOqceWa1SDrA",
        "outputId": "c9f16fa3-262c-45e0-e74f-4f1a54c37b12"
      },
      "outputs": [
        {
          "output_type": "stream",
          "name": "stdout",
          "text": [
            "Enter the asset price: 3500\n",
            "Enter the performance price per time: 300\n",
            "Enter the number of years expected to pay back the capital: 3\n",
            "Year 1 Income: $3,600.00, Remaining Value: $3,150.00\n",
            "Year 2 Income: $3,600.00, Remaining Value: $2,485.00\n",
            "Year 3 Income: $3,600.00, Remaining Value: $1,571.50\n",
            "\n",
            "Summary\n",
            "Total Income: $10,800.00\n",
            "Asset Price: $3,500.00\n",
            "Profit/Loss: $7,300.00 (Profit)\n",
            "Total Depreciation: $913.50\n"
          ]
        }
      ],
      "source": [
        "#โค้ดนี่เหมาะสำหรับ สินทรัพย์ที่อยู่ในรูปแบบ Opject หรือสินทรัพย์ที่จับต้องได้,อาจประยุกต์ใช้กับ สินทรัพย์ประเภทอื่นได้ แต่ไม่แนะนำ\n",
        "asset_price = float(input(\"Enter the asset price: \"))\n",
        "performance_price = float(input(\"Enter the performance price per time: \"))\n",
        "num_years = int(input(\"Enter the number of years expected to pay back the capital: \"))\n",
        "\n",
        "total_income = 0\n",
        "depreciation_rate = 0.1\n",
        "remaining_value = asset_price\n",
        "depreciation = 0\n",
        "\n",
        "for year in range(1, num_years+1):\n",
        "    year_income = performance_price * 12\n",
        "    total_income += year_income\n",
        "    depreciation += remaining_value * depreciation_rate\n",
        "    remaining_value -= depreciation\n",
        "    print(f\"Year {year} Income: ${year_income:,.2f}, Remaining Value: ${remaining_value:,.2f}\")\n",
        "\n",
        "profit_or_loss = total_income - asset_price\n",
        "status = \"Profit\" if profit_or_loss > 0 else \"Loss\"\n",
        "\n",
        "print(\"\\nSummary\")\n",
        "print(f\"Total Income: ${total_income:,.2f}\")\n",
        "print(f\"Asset Price: ${asset_price:,.2f}\")\n",
        "print(f\"Profit/Loss: ${profit_or_loss:,.2f} ({status})\")\n",
        "print(f\"Total Depreciation: ${depreciation:,.2f}\")\n",
        "#1.กรอกราคาสินทรัพย์ 2.กรอกผลประกอบการต่อที่ได้รับ /หรือผลประกอบการที่คาดหวัง รายเดือน 3.กรอกคำนวนปีที่จะคืนทุน\n",
        "#depreciation_rate = 0.1 (ค่าเสื่อมรายปี 10% สามารถปรับเพิ่มได้กรณีมีค่า Maintenance อื่นๆ อาทิ พนักงานค่าไฟค่าน้ำค่าเน็ตค่าบริการอื่นๆรายเดือน ต้องทำเป็นรายและบวกเพิ่มเข้าไป)\n"
      ]
    },
    {
      "cell_type": "code",
      "source": [],
      "metadata": {
        "id": "PqHXQsOjVEk4"
      },
      "execution_count": null,
      "outputs": []
    }
  ]
}